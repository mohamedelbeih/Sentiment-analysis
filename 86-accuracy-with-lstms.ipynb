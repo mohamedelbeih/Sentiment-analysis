{
 "cells": [
  {
   "cell_type": "code",
   "execution_count": 1,
   "metadata": {
    "_cell_guid": "b1076dfc-b9ad-4769-8c92-a6c4dae69d19",
    "_uuid": "8f2839f25d086af736a60e9eeb907d3b93b6e0e5",
    "execution": {
     "iopub.execute_input": "2021-02-20T13:58:04.044613Z",
     "iopub.status.busy": "2021-02-20T13:58:04.043575Z",
     "iopub.status.idle": "2021-02-20T13:58:04.049932Z",
     "shell.execute_reply": "2021-02-20T13:58:04.049184Z"
    },
    "papermill": {
     "duration": 0.022907,
     "end_time": "2021-02-20T13:58:04.050162",
     "exception": false,
     "start_time": "2021-02-20T13:58:04.027255",
     "status": "completed"
    },
    "tags": []
   },
   "outputs": [],
   "source": [
    "import numpy as np\n",
    "import pandas as pd"
   ]
  },
  {
   "cell_type": "code",
   "execution_count": 2,
   "metadata": {
    "execution": {
     "iopub.execute_input": "2021-02-20T13:58:04.079002Z",
     "iopub.status.busy": "2021-02-20T13:58:04.078221Z",
     "iopub.status.idle": "2021-02-20T13:58:04.286476Z",
     "shell.execute_reply": "2021-02-20T13:58:04.285821Z"
    },
    "papermill": {
     "duration": 0.224552,
     "end_time": "2021-02-20T13:58:04.286639",
     "exception": false,
     "start_time": "2021-02-20T13:58:04.062087",
     "status": "completed"
    },
    "tags": []
   },
   "outputs": [
    {
     "data": {
      "text/html": [
       "<div>\n",
       "<style scoped>\n",
       "    .dataframe tbody tr th:only-of-type {\n",
       "        vertical-align: middle;\n",
       "    }\n",
       "\n",
       "    .dataframe tbody tr th {\n",
       "        vertical-align: top;\n",
       "    }\n",
       "\n",
       "    .dataframe thead th {\n",
       "        text-align: right;\n",
       "    }\n",
       "</style>\n",
       "<table border=\"1\" class=\"dataframe\">\n",
       "  <thead>\n",
       "    <tr style=\"text-align: right;\">\n",
       "      <th></th>\n",
       "      <th>text</th>\n",
       "      <th>sentiment</th>\n",
       "    </tr>\n",
       "  </thead>\n",
       "  <tbody>\n",
       "    <tr>\n",
       "      <th>0</th>\n",
       "      <td>RT @NancyLeeGrahn: How did everyone feel about...</td>\n",
       "      <td>Neutral</td>\n",
       "    </tr>\n",
       "    <tr>\n",
       "      <th>1</th>\n",
       "      <td>RT @ScottWalker: Didn't catch the full #GOPdeb...</td>\n",
       "      <td>Positive</td>\n",
       "    </tr>\n",
       "    <tr>\n",
       "      <th>2</th>\n",
       "      <td>RT @TJMShow: No mention of Tamir Rice and the ...</td>\n",
       "      <td>Neutral</td>\n",
       "    </tr>\n",
       "    <tr>\n",
       "      <th>3</th>\n",
       "      <td>RT @RobGeorge: That Carly Fiorina is trending ...</td>\n",
       "      <td>Positive</td>\n",
       "    </tr>\n",
       "    <tr>\n",
       "      <th>4</th>\n",
       "      <td>RT @DanScavino: #GOPDebate w/ @realDonaldTrump...</td>\n",
       "      <td>Positive</td>\n",
       "    </tr>\n",
       "  </tbody>\n",
       "</table>\n",
       "</div>"
      ],
      "text/plain": [
       "                                                text sentiment\n",
       "0  RT @NancyLeeGrahn: How did everyone feel about...   Neutral\n",
       "1  RT @ScottWalker: Didn't catch the full #GOPdeb...  Positive\n",
       "2  RT @TJMShow: No mention of Tamir Rice and the ...   Neutral\n",
       "3  RT @RobGeorge: That Carly Fiorina is trending ...  Positive\n",
       "4  RT @DanScavino: #GOPDebate w/ @realDonaldTrump...  Positive"
      ]
     },
     "execution_count": 2,
     "metadata": {},
     "output_type": "execute_result"
    }
   ],
   "source": [
    "data = pd.read_csv('../input/first-gop-debate-twitter-sentiment/Sentiment.csv')\n",
    "data = data[['text','sentiment']]\n",
    "data.head()"
   ]
  },
  {
   "cell_type": "code",
   "execution_count": 3,
   "metadata": {
    "execution": {
     "iopub.execute_input": "2021-02-20T13:58:04.321560Z",
     "iopub.status.busy": "2021-02-20T13:58:04.320736Z",
     "iopub.status.idle": "2021-02-20T13:58:04.340697Z",
     "shell.execute_reply": "2021-02-20T13:58:04.340075Z"
    },
    "papermill": {
     "duration": 0.041518,
     "end_time": "2021-02-20T13:58:04.340876",
     "exception": false,
     "start_time": "2021-02-20T13:58:04.299358",
     "status": "completed"
    },
    "tags": []
   },
   "outputs": [
    {
     "data": {
      "text/html": [
       "<div>\n",
       "<style scoped>\n",
       "    .dataframe tbody tr th:only-of-type {\n",
       "        vertical-align: middle;\n",
       "    }\n",
       "\n",
       "    .dataframe tbody tr th {\n",
       "        vertical-align: top;\n",
       "    }\n",
       "\n",
       "    .dataframe thead th {\n",
       "        text-align: right;\n",
       "    }\n",
       "</style>\n",
       "<table border=\"1\" class=\"dataframe\">\n",
       "  <thead>\n",
       "    <tr style=\"text-align: right;\">\n",
       "      <th></th>\n",
       "      <th>text</th>\n",
       "      <th>sentiment</th>\n",
       "    </tr>\n",
       "  </thead>\n",
       "  <tbody>\n",
       "    <tr>\n",
       "      <th>0</th>\n",
       "      <td>RT @ScottWalker: Didn't catch the full #GOPdeb...</td>\n",
       "      <td>1</td>\n",
       "    </tr>\n",
       "    <tr>\n",
       "      <th>1</th>\n",
       "      <td>RT @RobGeorge: That Carly Fiorina is trending ...</td>\n",
       "      <td>1</td>\n",
       "    </tr>\n",
       "    <tr>\n",
       "      <th>2</th>\n",
       "      <td>RT @DanScavino: #GOPDebate w/ @realDonaldTrump...</td>\n",
       "      <td>1</td>\n",
       "    </tr>\n",
       "    <tr>\n",
       "      <th>3</th>\n",
       "      <td>RT @GregAbbott_TX: @TedCruz: \"On my first day ...</td>\n",
       "      <td>1</td>\n",
       "    </tr>\n",
       "    <tr>\n",
       "      <th>4</th>\n",
       "      <td>RT @warriorwoman91: I liked her and was happy ...</td>\n",
       "      <td>0</td>\n",
       "    </tr>\n",
       "  </tbody>\n",
       "</table>\n",
       "</div>"
      ],
      "text/plain": [
       "                                                text  sentiment\n",
       "0  RT @ScottWalker: Didn't catch the full #GOPdeb...          1\n",
       "1  RT @RobGeorge: That Carly Fiorina is trending ...          1\n",
       "2  RT @DanScavino: #GOPDebate w/ @realDonaldTrump...          1\n",
       "3  RT @GregAbbott_TX: @TedCruz: \"On my first day ...          1\n",
       "4  RT @warriorwoman91: I liked her and was happy ...          0"
      ]
     },
     "execution_count": 3,
     "metadata": {},
     "output_type": "execute_result"
    }
   ],
   "source": [
    "data = data[data.sentiment != \"Neutral\"]\n",
    "data['sentiment']= pd.get_dummies(data['sentiment'], drop_first = True)\n",
    "data = data.reset_index(drop=True)\n",
    "data.head()"
   ]
  },
  {
   "cell_type": "code",
   "execution_count": 4,
   "metadata": {
    "execution": {
     "iopub.execute_input": "2021-02-20T13:58:04.370499Z",
     "iopub.status.busy": "2021-02-20T13:58:04.369507Z",
     "iopub.status.idle": "2021-02-20T13:58:06.120353Z",
     "shell.execute_reply": "2021-02-20T13:58:06.118782Z"
    },
    "papermill": {
     "duration": 1.767089,
     "end_time": "2021-02-20T13:58:06.120541",
     "exception": false,
     "start_time": "2021-02-20T13:58:04.353452",
     "status": "completed"
    },
    "tags": []
   },
   "outputs": [],
   "source": [
    "import re\n",
    "import nltk\n",
    "from nltk.corpus import stopwords\n",
    "from nltk.stem.wordnet import WordNetLemmatizer\n",
    "from nltk.tokenize import word_tokenize"
   ]
  },
  {
   "cell_type": "code",
   "execution_count": 5,
   "metadata": {
    "execution": {
     "iopub.execute_input": "2021-02-20T13:58:06.161015Z",
     "iopub.status.busy": "2021-02-20T13:58:06.155839Z",
     "iopub.status.idle": "2021-02-20T13:59:00.198318Z",
     "shell.execute_reply": "2021-02-20T13:59:00.199117Z"
    },
    "papermill": {
     "duration": 54.065867,
     "end_time": "2021-02-20T13:59:00.199415",
     "exception": false,
     "start_time": "2021-02-20T13:58:06.133548",
     "status": "completed"
    },
    "tags": []
   },
   "outputs": [
    {
     "name": "stdout",
     "output_type": "stream",
     "text": [
      "['rt scottwalker catch full gopdebate last night scott best line second walker http co zsff', 'rt robgeorge carly fiorina trend hour debate men complete gopdebate say', 'rt danscavino gopdebate w realdonaldtrump deliver highest rat history presidential debate trump http co']\n"
     ]
    }
   ],
   "source": [
    "corpus = []\n",
    "\n",
    "for i in range(0, data.shape[0]):\n",
    "    tweet = re.sub('[^a-zA-Z]', ' ', data['text'][i])\n",
    "    tweet = tweet.lower()\n",
    "    tweet = word_tokenize(tweet)\n",
    "    # Reduce words to their root form\n",
    "    tweet = [WordNetLemmatizer().lemmatize(w) for w in tweet if not w in set(stopwords.words('english'))]\n",
    "    # Lemmatize verbs by specifying pos\n",
    "    tweet = [WordNetLemmatizer().lemmatize(w, pos='v') for w in tweet if not w in set(stopwords.words('english'))]\n",
    "    tweet = ' '.join(tweet)\n",
    "    corpus.append(tweet)\n",
    "\n",
    "print(corpus[0:3])"
   ]
  },
  {
   "cell_type": "markdown",
   "metadata": {
    "papermill": {
     "duration": 0.013218,
     "end_time": "2021-02-20T13:59:00.227043",
     "exception": false,
     "start_time": "2021-02-20T13:59:00.213825",
     "status": "completed"
    },
    "tags": []
   },
   "source": [
    "##applying TF-IDF to check the most relevant words after preprocessing , so we can remove some of these word to improve the model accuracy"
   ]
  },
  {
   "cell_type": "code",
   "execution_count": 6,
   "metadata": {
    "execution": {
     "iopub.execute_input": "2021-02-20T13:59:00.258544Z",
     "iopub.status.busy": "2021-02-20T13:59:00.257684Z",
     "iopub.status.idle": "2021-02-20T13:59:00.522895Z",
     "shell.execute_reply": "2021-02-20T13:59:00.522326Z"
    },
    "papermill": {
     "duration": 0.282372,
     "end_time": "2021-02-20T13:59:00.523067",
     "exception": false,
     "start_time": "2021-02-20T13:59:00.240695",
     "status": "completed"
    },
    "tags": []
   },
   "outputs": [
    {
     "data": {
      "text/html": [
       "<div>\n",
       "<style scoped>\n",
       "    .dataframe tbody tr th:only-of-type {\n",
       "        vertical-align: middle;\n",
       "    }\n",
       "\n",
       "    .dataframe tbody tr th {\n",
       "        vertical-align: top;\n",
       "    }\n",
       "\n",
       "    .dataframe thead th {\n",
       "        text-align: right;\n",
       "    }\n",
       "</style>\n",
       "<table border=\"1\" class=\"dataframe\">\n",
       "  <thead>\n",
       "    <tr style=\"text-align: right;\">\n",
       "      <th></th>\n",
       "      <th>TF-IDF</th>\n",
       "    </tr>\n",
       "  </thead>\n",
       "  <tbody>\n",
       "    <tr>\n",
       "      <th>zsff</th>\n",
       "      <td>0.453518</td>\n",
       "    </tr>\n",
       "    <tr>\n",
       "      <th>catch</th>\n",
       "      <td>0.344600</td>\n",
       "    </tr>\n",
       "    <tr>\n",
       "      <th>full</th>\n",
       "      <td>0.330405</td>\n",
       "    </tr>\n",
       "    <tr>\n",
       "      <th>second</th>\n",
       "      <td>0.313011</td>\n",
       "    </tr>\n",
       "    <tr>\n",
       "      <th>line</th>\n",
       "      <td>0.299403</td>\n",
       "    </tr>\n",
       "    <tr>\n",
       "      <th>scottwalker</th>\n",
       "      <td>0.282078</td>\n",
       "    </tr>\n",
       "    <tr>\n",
       "      <th>scott</th>\n",
       "      <td>0.274517</td>\n",
       "    </tr>\n",
       "    <tr>\n",
       "      <th>best</th>\n",
       "      <td>0.249607</td>\n",
       "    </tr>\n",
       "    <tr>\n",
       "      <th>walker</th>\n",
       "      <td>0.235920</td>\n",
       "    </tr>\n",
       "    <tr>\n",
       "      <th>last</th>\n",
       "      <td>0.182394</td>\n",
       "    </tr>\n",
       "    <tr>\n",
       "      <th>night</th>\n",
       "      <td>0.179712</td>\n",
       "    </tr>\n",
       "    <tr>\n",
       "      <th>co</th>\n",
       "      <td>0.125390</td>\n",
       "    </tr>\n",
       "    <tr>\n",
       "      <th>http</th>\n",
       "      <td>0.120963</td>\n",
       "    </tr>\n",
       "    <tr>\n",
       "      <th>rt</th>\n",
       "      <td>0.073324</td>\n",
       "    </tr>\n",
       "    <tr>\n",
       "      <th>gopdebate</th>\n",
       "      <td>0.067839</td>\n",
       "    </tr>\n",
       "    <tr>\n",
       "      <th>prees</th>\n",
       "      <td>0.000000</td>\n",
       "    </tr>\n",
       "    <tr>\n",
       "      <th>predator</th>\n",
       "      <td>0.000000</td>\n",
       "    </tr>\n",
       "    <tr>\n",
       "      <th>predicate</th>\n",
       "      <td>0.000000</td>\n",
       "    </tr>\n",
       "    <tr>\n",
       "      <th>prepare</th>\n",
       "      <td>0.000000</td>\n",
       "    </tr>\n",
       "    <tr>\n",
       "      <th>predict</th>\n",
       "      <td>0.000000</td>\n",
       "    </tr>\n",
       "  </tbody>\n",
       "</table>\n",
       "</div>"
      ],
      "text/plain": [
       "               TF-IDF\n",
       "zsff         0.453518\n",
       "catch        0.344600\n",
       "full         0.330405\n",
       "second       0.313011\n",
       "line         0.299403\n",
       "scottwalker  0.282078\n",
       "scott        0.274517\n",
       "best         0.249607\n",
       "walker       0.235920\n",
       "last         0.182394\n",
       "night        0.179712\n",
       "co           0.125390\n",
       "http         0.120963\n",
       "rt           0.073324\n",
       "gopdebate    0.067839\n",
       "prees        0.000000\n",
       "predator     0.000000\n",
       "predicate    0.000000\n",
       "prepare      0.000000\n",
       "predict      0.000000"
      ]
     },
     "execution_count": 6,
     "metadata": {},
     "output_type": "execute_result"
    }
   ],
   "source": [
    "from sklearn.feature_extraction.text import TfidfVectorizer\n",
    "\n",
    "tfIdfVectorizer=TfidfVectorizer(use_idf=True)\n",
    "tfIdf = tfIdfVectorizer.fit_transform(corpus)\n",
    "df = pd.DataFrame(tfIdf[0].T.todense(), index=tfIdfVectorizer.get_feature_names(), columns=[\"TF-IDF\"])\n",
    "df = df.sort_values('TF-IDF', ascending=False)\n",
    "pd.set_option('display.max_rows', None)\n",
    "df.head(20)\n"
   ]
  },
  {
   "cell_type": "code",
   "execution_count": 7,
   "metadata": {
    "execution": {
     "iopub.execute_input": "2021-02-20T13:59:00.585957Z",
     "iopub.status.busy": "2021-02-20T13:59:00.575674Z",
     "iopub.status.idle": "2021-02-20T13:59:00.614092Z",
     "shell.execute_reply": "2021-02-20T13:59:00.614720Z"
    },
    "papermill": {
     "duration": 0.077736,
     "end_time": "2021-02-20T13:59:00.614961",
     "exception": false,
     "start_time": "2021-02-20T13:59:00.537225",
     "status": "completed"
    },
    "tags": []
   },
   "outputs": [],
   "source": [
    "for i in range(0, len(corpus)):\n",
    "    corpus[i] = re.sub('co','', corpus[i])\n",
    "    corpus[i] = re.sub('rt','', corpus[i])\n",
    "    corpus[i] = re.sub('http','', corpus[i])\n",
    "    "
   ]
  },
  {
   "cell_type": "markdown",
   "metadata": {
    "papermill": {
     "duration": 0.013912,
     "end_time": "2021-02-20T13:59:00.643084",
     "exception": false,
     "start_time": "2021-02-20T13:59:00.629172",
     "status": "completed"
    },
    "tags": []
   },
   "source": []
  },
  {
   "cell_type": "code",
   "execution_count": 8,
   "metadata": {
    "execution": {
     "iopub.execute_input": "2021-02-20T13:59:00.680107Z",
     "iopub.status.busy": "2021-02-20T13:59:00.679362Z",
     "iopub.status.idle": "2021-02-20T13:59:07.135515Z",
     "shell.execute_reply": "2021-02-20T13:59:07.134800Z"
    },
    "papermill": {
     "duration": 6.476437,
     "end_time": "2021-02-20T13:59:07.135684",
     "exception": false,
     "start_time": "2021-02-20T13:59:00.659247",
     "status": "completed"
    },
    "tags": []
   },
   "outputs": [],
   "source": [
    "from tensorflow.keras.preprocessing.text import Tokenizer\n",
    "from tensorflow.keras.preprocessing.sequence import pad_sequences\n",
    "\n",
    "tokenizer = Tokenizer(num_words=None)\n",
    "tokenizer.fit_on_texts(corpus)\n",
    "encoded_docs = tokenizer.texts_to_sequences(corpus)\n",
    "padded_sequence = pad_sequences(encoded_docs,maxlen=200)\n"
   ]
  },
  {
   "cell_type": "code",
   "execution_count": 9,
   "metadata": {
    "execution": {
     "iopub.execute_input": "2021-02-20T13:59:07.170126Z",
     "iopub.status.busy": "2021-02-20T13:59:07.169201Z",
     "iopub.status.idle": "2021-02-20T13:59:07.173839Z",
     "shell.execute_reply": "2021-02-20T13:59:07.172986Z"
    },
    "papermill": {
     "duration": 0.024426,
     "end_time": "2021-02-20T13:59:07.174055",
     "exception": false,
     "start_time": "2021-02-20T13:59:07.149629",
     "status": "completed"
    },
    "tags": []
   },
   "outputs": [
    {
     "name": "stdout",
     "output_type": "stream",
     "text": [
      "4\n"
     ]
    }
   ],
   "source": [
    "print(tokenizer.word_index['trump'])"
   ]
  },
  {
   "cell_type": "code",
   "execution_count": 10,
   "metadata": {
    "execution": {
     "iopub.execute_input": "2021-02-20T13:59:07.209821Z",
     "iopub.status.busy": "2021-02-20T13:59:07.208839Z",
     "iopub.status.idle": "2021-02-20T13:59:07.213899Z",
     "shell.execute_reply": "2021-02-20T13:59:07.213391Z"
    },
    "papermill": {
     "duration": 0.024853,
     "end_time": "2021-02-20T13:59:07.214042",
     "exception": false,
     "start_time": "2021-02-20T13:59:07.189189",
     "status": "completed"
    },
    "tags": []
   },
   "outputs": [
    {
     "name": "stdout",
     "output_type": "stream",
     "text": [
      " sttwalker catch full gopdebate last night stt best line send walker   zsff\n",
      "[252, 779, 564, 1, 15, 13, 204, 114, 354, 224, 72, 5278]\n"
     ]
    }
   ],
   "source": [
    "print(corpus[0])\n",
    "print(encoded_docs[0])"
   ]
  },
  {
   "cell_type": "code",
   "execution_count": 11,
   "metadata": {
    "execution": {
     "iopub.execute_input": "2021-02-20T13:59:07.250036Z",
     "iopub.status.busy": "2021-02-20T13:59:07.249363Z",
     "iopub.status.idle": "2021-02-20T13:59:07.253026Z",
     "shell.execute_reply": "2021-02-20T13:59:07.253582Z"
    },
    "papermill": {
     "duration": 0.024999,
     "end_time": "2021-02-20T13:59:07.253777",
     "exception": false,
     "start_time": "2021-02-20T13:59:07.228778",
     "status": "completed"
    },
    "tags": []
   },
   "outputs": [
    {
     "name": "stdout",
     "output_type": "stream",
     "text": [
      "[   0    0    0    0    0    0    0    0    0    0    0    0    0    0\n",
      "    0    0    0    0    0    0    0    0    0    0    0    0    0    0\n",
      "    0    0    0    0    0    0    0    0    0    0    0    0    0    0\n",
      "    0    0    0    0    0    0    0    0    0    0    0    0    0    0\n",
      "    0    0    0    0    0    0    0    0    0    0    0    0    0    0\n",
      "    0    0    0    0    0    0    0    0    0    0    0    0    0    0\n",
      "    0    0    0    0    0    0    0    0    0    0    0    0    0    0\n",
      "    0    0    0    0    0    0    0    0    0    0    0    0    0    0\n",
      "    0    0    0    0    0    0    0    0    0    0    0    0    0    0\n",
      "    0    0    0    0    0    0    0    0    0    0    0    0    0    0\n",
      "    0    0    0    0    0    0    0    0    0    0    0    0    0    0\n",
      "    0    0    0    0    0    0    0    0    0    0    0    0    0    0\n",
      "    0    0    0    0    0    0    0    0    0    0    0    0    0    0\n",
      "    0    0    0    0    0    0  252  779  564    1   15   13  204  114\n",
      "  354  224   72 5278]\n"
     ]
    }
   ],
   "source": [
    "print(padded_sequence[0])"
   ]
  },
  {
   "cell_type": "code",
   "execution_count": 12,
   "metadata": {
    "execution": {
     "iopub.execute_input": "2021-02-20T13:59:07.288246Z",
     "iopub.status.busy": "2021-02-20T13:59:07.287453Z",
     "iopub.status.idle": "2021-02-20T13:59:08.012404Z",
     "shell.execute_reply": "2021-02-20T13:59:08.011505Z"
    },
    "papermill": {
     "duration": 0.743517,
     "end_time": "2021-02-20T13:59:08.012658",
     "exception": false,
     "start_time": "2021-02-20T13:59:07.269141",
     "status": "completed"
    },
    "tags": []
   },
   "outputs": [
    {
     "name": "stdout",
     "output_type": "stream",
     "text": [
      "Model: \"sequential\"\n",
      "_________________________________________________________________\n",
      "Layer (type)                 Output Shape              Param #   \n",
      "=================================================================\n",
      "embedding (Embedding)        (None, 25, 200)           2598000   \n",
      "_________________________________________________________________\n",
      "spatial_dropout1d (SpatialDr (None, 25, 200)           0         \n",
      "_________________________________________________________________\n",
      "lstm (LSTM)                  (None, 3)                 2448      \n",
      "_________________________________________________________________\n",
      "dropout (Dropout)            (None, 3)                 0         \n",
      "_________________________________________________________________\n",
      "dense (Dense)                (None, 1)                 4         \n",
      "=================================================================\n",
      "Total params: 2,600,452\n",
      "Trainable params: 2,600,452\n",
      "Non-trainable params: 0\n",
      "_________________________________________________________________\n",
      "None\n"
     ]
    }
   ],
   "source": [
    "# Build the model\n",
    "from tensorflow.keras.models import Sequential\n",
    "from tensorflow.keras.layers import LSTM,Dense, Dropout\n",
    "from tensorflow.keras.layers import SpatialDropout1D\n",
    "from tensorflow.keras.layers import Embedding\n",
    "from keras.initializers import Constant\n",
    "\n",
    "vocab_size = len(tokenizer.word_index) + 1\n",
    "embedding_vector_length = 200\n",
    "\n",
    "\n",
    "model = Sequential()\n",
    "model.add(Embedding(vocab_size, embedding_vector_length,\n",
    "                    input_length=25) )\n",
    "model.add(SpatialDropout1D(0.2))\n",
    "model.add(LSTM(3, dropout=0.2, recurrent_dropout=0.2))\n",
    "model.add(Dropout(0.2))\n",
    "model.add(Dense(1, activation='sigmoid'))\n",
    "model.compile(loss='binary_crossentropy',optimizer='adam', metrics=['accuracy'])\n",
    "print(model.summary())"
   ]
  },
  {
   "cell_type": "code",
   "execution_count": 13,
   "metadata": {
    "execution": {
     "iopub.execute_input": "2021-02-20T13:59:08.049121Z",
     "iopub.status.busy": "2021-02-20T13:59:08.048276Z",
     "iopub.status.idle": "2021-02-20T13:59:08.052695Z",
     "shell.execute_reply": "2021-02-20T13:59:08.053363Z"
    },
    "papermill": {
     "duration": 0.024313,
     "end_time": "2021-02-20T13:59:08.053588",
     "exception": false,
     "start_time": "2021-02-20T13:59:08.029275",
     "status": "completed"
    },
    "tags": []
   },
   "outputs": [],
   "source": [
    "# converting the targets to numpy array to feed it into the model\n",
    "target = np.asarray(data['sentiment'])"
   ]
  },
  {
   "cell_type": "code",
   "execution_count": 14,
   "metadata": {
    "execution": {
     "iopub.execute_input": "2021-02-20T13:59:08.093226Z",
     "iopub.status.busy": "2021-02-20T13:59:08.092471Z",
     "iopub.status.idle": "2021-02-20T14:00:54.704547Z",
     "shell.execute_reply": "2021-02-20T14:00:54.702431Z"
    },
    "papermill": {
     "duration": 106.634634,
     "end_time": "2021-02-20T14:00:54.704757",
     "exception": false,
     "start_time": "2021-02-20T13:59:08.070123",
     "status": "completed"
    },
    "tags": []
   },
   "outputs": [
    {
     "name": "stdout",
     "output_type": "stream",
     "text": [
      "Epoch 1/5\n",
      "34/34 [==============================] - 25s 635ms/step - loss: 0.6584 - accuracy: 0.6976 - val_loss: 0.5307 - val_accuracy: 0.7968\n",
      "Epoch 2/5\n",
      "34/34 [==============================] - 20s 599ms/step - loss: 0.5157 - accuracy: 0.7948 - val_loss: 0.4866 - val_accuracy: 0.7968\n",
      "Epoch 3/5\n",
      "34/34 [==============================] - 20s 592ms/step - loss: 0.4550 - accuracy: 0.8020 - val_loss: 0.4494 - val_accuracy: 0.8010\n",
      "Epoch 4/5\n",
      "34/34 [==============================] - 20s 602ms/step - loss: 0.3967 - accuracy: 0.8399 - val_loss: 0.3983 - val_accuracy: 0.8257\n",
      "Epoch 5/5\n",
      "34/34 [==============================] - 21s 607ms/step - loss: 0.3282 - accuracy: 0.8872 - val_loss: 0.3480 - val_accuracy: 0.8518\n"
     ]
    }
   ],
   "source": [
    "MODEL = model.fit(padded_sequence,target,validation_split=0.2, epochs=5, batch_size=256)"
   ]
  },
  {
   "cell_type": "code",
   "execution_count": 15,
   "metadata": {
    "execution": {
     "iopub.execute_input": "2021-02-20T14:00:54.857590Z",
     "iopub.status.busy": "2021-02-20T14:00:54.856831Z",
     "iopub.status.idle": "2021-02-20T14:00:55.184356Z",
     "shell.execute_reply": "2021-02-20T14:00:55.185031Z"
    },
    "papermill": {
     "duration": 0.408981,
     "end_time": "2021-02-20T14:00:55.185288",
     "exception": false,
     "start_time": "2021-02-20T14:00:54.776307",
     "status": "completed"
    },
    "tags": []
   },
   "outputs": [
    {
     "name": "stdout",
     "output_type": "stream",
     "text": [
      "1\n"
     ]
    }
   ],
   "source": [
    "test_word ='love trump'\n",
    "tw = tokenizer.texts_to_sequences([test_word])\n",
    "tw = pad_sequences(tw,maxlen=200)\n",
    "prediction = int(model.predict(tw).round().item())\n",
    "print(prediction)"
   ]
  },
  {
   "cell_type": "markdown",
   "metadata": {
    "papermill": {
     "duration": 0.069998,
     "end_time": "2021-02-20T14:00:55.329705",
     "exception": false,
     "start_time": "2021-02-20T14:00:55.259707",
     "status": "completed"
    },
    "tags": []
   },
   "source": [
    "finally this is the best accuracy i could get after hyperparametes tuning + TF-IDF as guidance for removing some words"
   ]
  }
 ],
 "metadata": {
  "kernelspec": {
   "display_name": "Python 3",
   "language": "python",
   "name": "python3"
  },
  "language_info": {
   "codemirror_mode": {
    "name": "ipython",
    "version": 3
   },
   "file_extension": ".py",
   "mimetype": "text/x-python",
   "name": "python",
   "nbconvert_exporter": "python",
   "pygments_lexer": "ipython3",
   "version": "3.7.9"
  },
  "papermill": {
   "default_parameters": {},
   "duration": 179.584439,
   "end_time": "2021-02-20T14:00:57.719777",
   "environment_variables": {},
   "exception": null,
   "input_path": "__notebook__.ipynb",
   "output_path": "__notebook__.ipynb",
   "parameters": {},
   "start_time": "2021-02-20T13:57:58.135338",
   "version": "2.2.2"
  }
 },
 "nbformat": 4,
 "nbformat_minor": 4
}
